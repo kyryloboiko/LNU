{
 "cells": [
  {
   "cell_type": "code",
   "execution_count": null,
   "metadata": {
    "vscode": {
     "languageId": "plaintext"
    }
   },
   "outputs": [],
   "source": []
  },
  {
   "cell_type": "code",
   "execution_count": null,
   "metadata": {
    "vscode": {
     "languageId": "plaintext"
    }
   },
   "outputs": [],
   "source": [
    "import numpy as np\n",
    "import matplotlib.pyplot as plt\n",
    "import pandas as pd\n",
    "from scipy.stats import linregress\n",
    "\n",
    "def ngram_analysis(filepath, label):\n",
    "    dataset = pd.read_csv(filepath, sep='\\\\t', header=None, names=['Ранг', 'NGram', 'Частота'], engine='python')\n",
    "    dataset['Ранг'] = pd.to_numeric(dataset['Ранг'], errors='coerce')\n",
    "    dataset['Частота'] = pd.to_numeric(dataset['Частота'], errors='coerce')\n",
    "    dataset = dataset.dropna()\n",
    "    \n",
    "    rank = dataset['Ранг']\n",
    "    freq = dataset['Частота']\n",
    "    \n",
    "    # --- Звичайний масштаб ---\n",
    "    plt.figure(figsize=(8, 6))\n",
    "    plt.plot(rank, freq, 'o-', label='Дані')\n",
    "    plt.title(f'Рангово-частотна залежність для {label} (звичайний масштаб)')\n",
    "    plt.xlabel('Ранг')\n",
    "    plt.ylabel('Частота')\n",
    "    plt.grid()\n",
    "    plt.legend()\n",
    "    plt.show()\n",
    "    \n",
    "    # --- Напівлогарифмічний масштаб ---\n",
    "    plt.figure(figsize=(8, 6))\n",
    "    plt.semilogy(rank, freq, 'o-', label='Дані')\n",
    "    plt.title(f'Рангово-частотна залежність для {label} (напівлогарифмічний масштаб)')\n",
    "    plt.xlabel('Ранг')\n",
    "    plt.ylabel('Частота (логарифмічний масштаб)')\n",
    "    plt.grid()\n",
    "    plt.legend()\n",
    "    plt.show()\n",
    "    \n",
    "    # --- Логарифмічний масштаб ---\n",
    "    log_rank = np.log10(rank)\n",
    "    log_freq = np.log10(freq)\n",
    "    # Лінійна апроксимація\n",
    "    slope, intercept, r_value, _, _ = linregress(log_rank, log_freq)\n",
    "    approx_line = slope * log_rank + intercept\n",
    "    \n",
    "    plt.figure(figsize=(8, 6))\n",
    "    plt.plot(log_rank, log_freq, 'o', label='Дані (логарифмічний масштаб)')\n",
    "    plt.plot(log_rank, approx_line, 'r-', label=f'Апроксимація: y={slope:.2f}x+{intercept:.2f}')\n",
    "    plt.title(f'Рангово-частотна залежність для {label} (логарифмічний масштаб)')\n",
    "    plt.xlabel('log10(Ранг)')\n",
    "    plt.ylabel('log10(Частота)')\n",
    "    plt.grid()\n",
    "    plt.legend()\n",
    "    plt.show()\n",
    "    \n",
    "    pearson_log = r_value\n",
    "    _, _, r_value_semilog, _, _ = linregress(rank, np.log(freq))\n",
    "    return {\n",
    "        'n-грам': label,\n",
    "        'Коефіцієнт нахилу': round(slope, 2),\n",
    "        'Коефіцієнт Пірсона (логарифмічний)': round(pearson_log, 2),\n",
    "        'Коефіцієнт Пірсона (напівлогарифмічний)': round(r_value_semilog, 2)\n",
    "    }\n",
    "\n",
    "files = [\n",
    "    'data/1-grams.txt',\n",
    "    'data/2-grams.txt',\n",
    "    'data/3-grams.txt',\n",
    "    'data/4-grams.txt'\n",
    "]\n",
    "\n",
    "results = []\n",
    "for index, filepath in enumerate(files, start=1):\n",
    "    label = f'{index}-грам'\n",
    "    print(f'Аналізую {label}...')\n",
    "    result = ngram_analysis(filepath, label)\n",
    "    results.append(result)\n",
    "\n",
    "df_results = pd.DataFrame(results)\n",
    "print(\"\\nТаблиця результатів:\")\n",
    "print(df_results.to_markdown(index=False, tablefmt=\"grid\"))\n"
   ]
  }
 ],
 "metadata": {
  "language_info": {
   "name": "python"
  }
 },
 "nbformat": 4,
 "nbformat_minor": 2
}
